{
 "cells": [
  {
   "cell_type": "markdown",
   "metadata": {},
   "source": [
    "## Import require libraries"
   ]
  },
  {
   "cell_type": "code",
   "execution_count": 1,
   "metadata": {},
   "outputs": [],
   "source": [
    "from sklearn.metrics import roc_auc_score, auc\n",
    "from sklearn.metrics import precision_recall_curve\n",
    "from sklearn.metrics import confusion_matrix\n",
    "import numpy as np\n",
    "from collections import Counter\n"
   ]
  },
  {
   "cell_type": "markdown",
   "metadata": {},
   "source": [
    "## Read Results"
   ]
  },
  {
   "cell_type": "code",
   "execution_count": 3,
   "metadata": {},
   "outputs": [
    {
     "name": "stdout",
     "output_type": "stream",
     "text": [
      "135\n",
      "2089\n",
      "895\n",
      "463\n",
      "347\n",
      "221\n",
      "103\n"
     ]
    }
   ],
   "source": [
    "from os import readlink\n",
    "f = open('weekly_result.txt',\"r\")\n",
    "lines = f.readlines()\n",
    "y_prob8, y_prob9, y_prob10, y_prob11, y_prob12, y_prob13, y_prob14 = [], [], [], [], [], [], []\n",
    "y_true8, y_true9, y_true10, y_true11, y_true12, y_true13, y_true14 = [], [], [], [], [], [], []\n",
    "lines.pop(0)\n",
    "plot = []\n",
    "for x in lines:\n",
    "#     if(x.split('\\t')[0]) == 'HLA-A*01:01':\n",
    "        if (x.split('\\t')[3]) == '8':\n",
    "            y_prob8.append(x.split('\\t')[4])\n",
    "            y_true8.append(x.split('\\t')[2])\n",
    "        if (x.split('\\t')[3]) == '9':\n",
    "            y_prob9.append(x.split('\\t')[4])\n",
    "            y_true9.append(x.split('\\t')[2])\n",
    "        if (x.split('\\t')[3]) == '10':\n",
    "            y_prob10.append(x.split('\\t')[4])\n",
    "            y_true10.append(x.split('\\t')[2])\n",
    "        if (x.split('\\t')[3]) == '11':\n",
    "            y_prob11.append(x.split('\\t')[4])\n",
    "            y_true11.append(x.split('\\t')[2])\n",
    "        if (x.split('\\t')[3]) == '12':\n",
    "            y_prob12.append(x.split('\\t')[4])\n",
    "            y_true12.append(x.split('\\t')[2])\n",
    "        if (x.split('\\t')[3]) == '13':\n",
    "            y_prob13.append(x.split('\\t')[4])\n",
    "            y_true13.append(x.split('\\t')[2])\n",
    "        if (x.split('\\t')[3]) == '14':\n",
    "            y_prob14.append(x.split('\\t')[4])\n",
    "            y_true14.append(x.split('\\t')[2])\n",
    "        \n",
    "f.close()\n",
    "y_prob8 = [float(num) for num in y_prob8]\n",
    "y_true8 = [float(num) for num in y_true8]\n",
    "y_pred8 = [round(num) for num in y_prob8]\n",
    "\n",
    "y_prob9 = [float(num) for num in y_prob9]\n",
    "y_true9 = [float(num) for num in y_true9]\n",
    "y_pred9 = [round(num) for num in y_prob9]\n",
    "\n",
    "y_prob10 = [float(num) for num in y_prob10]\n",
    "y_true10 = [float(num) for num in y_true10]\n",
    "y_pred10 = [round(num) for num in y_prob10]\n",
    "\n",
    "y_prob11 = [float(num) for num in y_prob11]\n",
    "y_true11 = [float(num) for num in y_true11]\n",
    "y_pred11 = [round(num) for num in y_prob11]\n",
    "\n",
    "y_prob12 = [float(num) for num in y_prob12]\n",
    "y_true12 = [float(num) for num in y_true12]\n",
    "y_pred12 = [round(num) for num in y_prob12]\n",
    "\n",
    "y_prob13 = [float(num) for num in y_prob13]\n",
    "y_true13 = [float(num) for num in y_true13]\n",
    "y_pred13 = [round(num) for num in y_prob13]\n",
    "\n",
    "y_prob14 = [float(num) for num in y_prob14]\n",
    "y_true14 = [float(num) for num in y_true14]\n",
    "y_pred14 = [round(num) for num in y_prob14]\n",
    "\n",
    "plot.append(len(y_true8))\n",
    "plot.append(len(y_true9))\n",
    "plot.append(len(y_true10))\n",
    "plot.append(len(y_true11))\n",
    "plot.append(len(y_true12))\n",
    "plot.append(len(y_true13))\n",
    "plot.append(len(y_true14))"
   ]
  },
  {
   "cell_type": "markdown",
   "metadata": {},
   "source": [
    "## 8-mer"
   ]
  },
  {
   "cell_type": "code",
   "execution_count": 4,
   "metadata": {},
   "outputs": [
    {
     "name": "stdout",
     "output_type": "stream",
     "text": [
      "tn = 63, fp = 5, fn = 1, tp = 66\n",
      "y_pred8: 0 = 64 | 1 = 71\n",
      "y_true8: 0 = 68 | 1 = 67\n",
      "auc=0.9912|sn=0.9851|sp=0.9265|acc=0.9556|mcc=0.9127\n",
      "precision=0.9296|recall=0.9851|f1=0.9565|aupr=0.9911\n"
     ]
    }
   ],
   "source": [
    "tn, fp, fn, tp = confusion_matrix(y_true8, y_pred8, labels = [0, 1]).ravel().tolist()\n",
    "accuracy = (tp+tn)/(tn+fp+fn+tp)\n",
    "try:\n",
    "    mcc = ((tp*tn) - (fn*fp)) / np.sqrt(np.float((tp+fn)*(tn+fp)*(tp+fp)*(tn+fn)))\n",
    "except:\n",
    "    print('MCC Error: ', (tp+fn)*(tn+fp)*(tp+fp)*(tn+fn))\n",
    "    mcc = np.nan\n",
    "sensitivity = tp/(tp+fn)\n",
    "specificity = tn/(tn+fp)\n",
    "\n",
    "try:\n",
    "    recall = tp / (tp+fn)\n",
    "except:\n",
    "    recall = np.nan\n",
    "\n",
    "try:\n",
    "    precision = tp / (tp+fp)\n",
    "except:\n",
    "    precision = np.nan\n",
    "\n",
    "try: \n",
    "    f1 = 2*precision*recall / (precision+recall)\n",
    "except:\n",
    "    f1 = np.nan\n",
    "\n",
    "roc_auc = roc_auc_score(y_true8, y_prob8)\n",
    "prec, reca, _ = precision_recall_curve(y_true8, y_prob8)\n",
    "aupr = auc(reca, prec)\n",
    "\n",
    "print('tn = {}, fp = {}, fn = {}, tp = {}'.format(tn, fp, fn, tp))\n",
    "print('y_pred8: 0 = {} | 1 = {}'.format(Counter(y_pred8)[0], Counter(y_pred8)[1]))\n",
    "print('y_true8: 0 = {} | 1 = {}'.format(Counter(y_true8)[0], Counter(y_true8)[1]))\n",
    "print('auc={:.4f}|sn={:.4f}|sp={:.4f}|acc={:.4f}|mcc={:.4f}'.format(roc_auc, sensitivity, specificity, accuracy, mcc))\n",
    "print('precision={:.4f}|recall={:.4f}|f1={:.4f}|aupr={:.4f}'.format(precision, recall, f1, aupr))"
   ]
  },
  {
   "cell_type": "markdown",
   "metadata": {},
   "source": [
    "## 9-mer"
   ]
  },
  {
   "cell_type": "code",
   "execution_count": 5,
   "metadata": {},
   "outputs": [
    {
     "name": "stdout",
     "output_type": "stream",
     "text": [
      "tn = 1002, fp = 43, fn = 62, tp = 982\n",
      "y_pred9: 0 = 1064 | 1 = 1025\n",
      "y_true9: 0 = 1045 | 1 = 1044\n",
      "auc=0.9872|sn=0.9406|sp=0.9589|acc=0.9497|mcc=0.8996\n",
      "precision=0.9580|recall=0.9406|f1=0.9493|aupr=0.9878\n"
     ]
    }
   ],
   "source": [
    "tn, fp, fn, tp = confusion_matrix(y_true9, y_pred9, labels = [0, 1]).ravel().tolist()\n",
    "accuracy = (tp+tn)/(tn+fp+fn+tp)\n",
    "try:\n",
    "    mcc = ((tp*tn) - (fn*fp)) / np.sqrt(np.float((tp+fn)*(tn+fp)*(tp+fp)*(tn+fn)))\n",
    "except:\n",
    "    print('MCC Error: ', (tp+fn)*(tn+fp)*(tp+fp)*(tn+fn))\n",
    "    mcc = np.nan\n",
    "sensitivity = tp/(tp+fn)\n",
    "specificity = tn/(tn+fp)\n",
    "\n",
    "try:\n",
    "    recall = tp / (tp+fn)\n",
    "except:\n",
    "    recall = np.nan\n",
    "\n",
    "try:\n",
    "    precision = tp / (tp+fp)\n",
    "except:\n",
    "    precision = np.nan\n",
    "\n",
    "try: \n",
    "    f1 = 2*precision*recall / (precision+recall)\n",
    "except:\n",
    "    f1 = np.nan\n",
    "\n",
    "roc_auc = roc_auc_score(y_true9, y_prob9)\n",
    "prec, reca, _ = precision_recall_curve(y_true9, y_prob9)\n",
    "aupr = auc(reca, prec)\n",
    "\n",
    "print('tn = {}, fp = {}, fn = {}, tp = {}'.format(tn, fp, fn, tp))\n",
    "print('y_pred9: 0 = {} | 1 = {}'.format(Counter(y_pred9)[0], Counter(y_pred9)[1]))\n",
    "print('y_true9: 0 = {} | 1 = {}'.format(Counter(y_true9)[0], Counter(y_true9)[1]))\n",
    "print('auc={:.4f}|sn={:.4f}|sp={:.4f}|acc={:.4f}|mcc={:.4f}'.format(roc_auc, sensitivity, specificity, accuracy, mcc))\n",
    "print('precision={:.4f}|recall={:.4f}|f1={:.4f}|aupr={:.4f}'.format(precision, recall, f1, aupr))"
   ]
  },
  {
   "cell_type": "markdown",
   "metadata": {},
   "source": [
    "## 10-mer"
   ]
  },
  {
   "cell_type": "code",
   "execution_count": 5,
   "metadata": {},
   "outputs": [
    {
     "name": "stdout",
     "output_type": "stream",
     "text": [
      "tn = 12642, fp = 958, fn = 820, tp = 12706\n",
      "y_pred10: 0 = 13462 | 1 = 13664\n",
      "y_true10: 0 = 13600 | 1 = 13526\n",
      "auc=0.9800|sn=0.9394|sp=0.9296|acc=0.9345|mcc=0.8690\n",
      "precision=0.9299|recall=0.9394|f1=0.9346|aupr=0.9797\n"
     ]
    }
   ],
   "source": [
    "tn, fp, fn, tp = confusion_matrix(y_true10, y_pred10, labels = [0, 1]).ravel().tolist()\n",
    "accuracy = (tp+tn)/(tn+fp+fn+tp)\n",
    "try:\n",
    "    mcc = ((tp*tn) - (fn*fp)) / np.sqrt(np.float((tp+fn)*(tn+fp)*(tp+fp)*(tn+fn)))\n",
    "except:\n",
    "    print('MCC Error: ', (tp+fn)*(tn+fp)*(tp+fp)*(tn+fn))\n",
    "    mcc = np.nan\n",
    "sensitivity = tp/(tp+fn)\n",
    "specificity = tn/(tn+fp)\n",
    "\n",
    "try:\n",
    "    recall = tp / (tp+fn)\n",
    "except:\n",
    "    recall = np.nan\n",
    "\n",
    "try:\n",
    "    precision = tp / (tp+fp)\n",
    "except:\n",
    "    precision = np.nan\n",
    "\n",
    "try: \n",
    "    f1 = 2*precision*recall / (precision+recall)\n",
    "except:\n",
    "    f1 = np.nan\n",
    "\n",
    "roc_auc = roc_auc_score(y_true10, y_prob10)\n",
    "prec, reca, _ = precision_recall_curve(y_true10, y_prob10)\n",
    "aupr = auc(reca, prec)\n",
    "\n",
    "print('tn = {}, fp = {}, fn = {}, tp = {}'.format(tn, fp, fn, tp))\n",
    "print('y_pred10: 0 = {} | 1 = {}'.format(Counter(y_pred10)[0], Counter(y_pred10)[1]))\n",
    "print('y_true10: 0 = {} | 1 = {}'.format(Counter(y_true10)[0], Counter(y_true10)[1]))\n",
    "print('auc={:.4f}|sn={:.4f}|sp={:.4f}|acc={:.4f}|mcc={:.4f}'.format(roc_auc, sensitivity, specificity, accuracy, mcc))\n",
    "print('precision={:.4f}|recall={:.4f}|f1={:.4f}|aupr={:.4f}'.format(precision, recall, f1, aupr))"
   ]
  },
  {
   "cell_type": "markdown",
   "metadata": {},
   "source": [
    "## 11-mer"
   ]
  },
  {
   "cell_type": "code",
   "execution_count": 6,
   "metadata": {},
   "outputs": [
    {
     "name": "stdout",
     "output_type": "stream",
     "text": [
      "tn = 5497, fp = 361, fn = 452, tp = 5349\n",
      "y_pred11: 0 = 5949 | 1 = 5710\n",
      "y_true11: 0 = 5858 | 1 = 5801\n",
      "auc=0.9786|sn=0.9221|sp=0.9384|acc=0.9303|mcc=0.8606\n",
      "precision=0.9368|recall=0.9221|f1=0.9294|aupr=0.9803\n"
     ]
    }
   ],
   "source": [
    "tn, fp, fn, tp = confusion_matrix(y_true11, y_pred11, labels = [0, 1]).ravel().tolist()\n",
    "accuracy = (tp+tn)/(tn+fp+fn+tp)\n",
    "try:\n",
    "    mcc = ((tp*tn) - (fn*fp)) / np.sqrt(np.float((tp+fn)*(tn+fp)*(tp+fp)*(tn+fn)))\n",
    "except:\n",
    "    print('MCC Error: ', (tp+fn)*(tn+fp)*(tp+fp)*(tn+fn))\n",
    "    mcc = np.nan\n",
    "sensitivity = tp/(tp+fn)\n",
    "specificity = tn/(tn+fp)\n",
    "\n",
    "try:\n",
    "    recall = tp / (tp+fn)\n",
    "except:\n",
    "    recall = np.nan\n",
    "\n",
    "try:\n",
    "    precision = tp / (tp+fp)\n",
    "except:\n",
    "    precision = np.nan\n",
    "\n",
    "try: \n",
    "    f1 = 2*precision*recall / (precision+recall)\n",
    "except:\n",
    "    f1 = np.nan\n",
    "\n",
    "roc_auc = roc_auc_score(y_true11, y_prob11)\n",
    "prec, reca, _ = precision_recall_curve(y_true11, y_prob11)\n",
    "aupr = auc(reca, prec)\n",
    "\n",
    "print('tn = {}, fp = {}, fn = {}, tp = {}'.format(tn, fp, fn, tp))\n",
    "print('y_pred11: 0 = {} | 1 = {}'.format(Counter(y_pred11)[0], Counter(y_pred11)[1]))\n",
    "print('y_true11: 0 = {} | 1 = {}'.format(Counter(y_true11)[0], Counter(y_true11)[1]))\n",
    "print('auc={:.4f}|sn={:.4f}|sp={:.4f}|acc={:.4f}|mcc={:.4f}'.format(roc_auc, sensitivity, specificity, accuracy, mcc))\n",
    "print('precision={:.4f}|recall={:.4f}|f1={:.4f}|aupr={:.4f}'.format(precision, recall, f1, aupr))"
   ]
  },
  {
   "cell_type": "markdown",
   "metadata": {},
   "source": [
    "## 12-mer"
   ]
  },
  {
   "cell_type": "code",
   "execution_count": 7,
   "metadata": {},
   "outputs": [
    {
     "name": "stdout",
     "output_type": "stream",
     "text": [
      "tn = 2450, fp = 302, fn = 393, tp = 2326\n",
      "y_pred12: 0 = 2843 | 1 = 2628\n",
      "y_true12: 0 = 2752 | 1 = 2719\n",
      "auc=0.9469|sn=0.8555|sp=0.8903|acc=0.8730|mcc=0.7463\n",
      "precision=0.8851|recall=0.8555|f1=0.8700|aupr=0.9512\n"
     ]
    }
   ],
   "source": [
    "tn, fp, fn, tp = confusion_matrix(y_true12, y_pred12, labels = [0, 1]).ravel().tolist()\n",
    "accuracy = (tp+tn)/(tn+fp+fn+tp)\n",
    "try:\n",
    "    mcc = ((tp*tn) - (fn*fp)) / np.sqrt(np.float((tp+fn)*(tn+fp)*(tp+fp)*(tn+fn)))\n",
    "except:\n",
    "    print('MCC Error: ', (tp+fn)*(tn+fp)*(tp+fp)*(tn+fn))\n",
    "    mcc = np.nan\n",
    "sensitivity = tp/(tp+fn)\n",
    "specificity = tn/(tn+fp)\n",
    "\n",
    "try:\n",
    "    recall = tp / (tp+fn)\n",
    "except:\n",
    "    recall = np.nan\n",
    "\n",
    "try:\n",
    "    precision = tp / (tp+fp)\n",
    "except:\n",
    "    precision = np.nan\n",
    "\n",
    "try: \n",
    "    f1 = 2*precision*recall / (precision+recall)\n",
    "except:\n",
    "    f1 = np.nan\n",
    "\n",
    "roc_auc = roc_auc_score(y_true12, y_prob12)\n",
    "prec, reca, _ = precision_recall_curve(y_true12, y_prob12)\n",
    "aupr = auc(reca, prec)\n",
    "\n",
    "print('tn = {}, fp = {}, fn = {}, tp = {}'.format(tn, fp, fn, tp))\n",
    "print('y_pred12: 0 = {} | 1 = {}'.format(Counter(y_pred12)[0], Counter(y_pred12)[1]))\n",
    "print('y_true12: 0 = {} | 1 = {}'.format(Counter(y_true12)[0], Counter(y_true12)[1]))\n",
    "print('auc={:.4f}|sn={:.4f}|sp={:.4f}|acc={:.4f}|mcc={:.4f}'.format(roc_auc, sensitivity, specificity, accuracy, mcc))\n",
    "print('precision={:.4f}|recall={:.4f}|f1={:.4f}|aupr={:.4f}'.format(precision, recall, f1, aupr))"
   ]
  },
  {
   "cell_type": "markdown",
   "metadata": {},
   "source": [
    "## 13-mer"
   ]
  },
  {
   "cell_type": "code",
   "execution_count": 8,
   "metadata": {},
   "outputs": [
    {
     "name": "stdout",
     "output_type": "stream",
     "text": [
      "tn = 1198, fp = 223, fn = 237, tp = 1160\n",
      "y_pred13: 0 = 1435 | 1 = 1383\n",
      "y_true13: 0 = 1421 | 1 = 1397\n",
      "auc=0.9234|sn=0.8304|sp=0.8431|acc=0.8368|mcc=0.6735\n",
      "precision=0.8388|recall=0.8304|f1=0.8345|aupr=0.9311\n"
     ]
    }
   ],
   "source": [
    "tn, fp, fn, tp = confusion_matrix(y_true13, y_pred13, labels = [0, 1]).ravel().tolist()\n",
    "accuracy = (tp+tn)/(tn+fp+fn+tp)\n",
    "try:\n",
    "    mcc = ((tp*tn) - (fn*fp)) / np.sqrt(np.float((tp+fn)*(tn+fp)*(tp+fp)*(tn+fn)))\n",
    "except:\n",
    "    print('MCC Error: ', (tp+fn)*(tn+fp)*(tp+fp)*(tn+fn))\n",
    "    mcc = np.nan\n",
    "sensitivity = tp/(tp+fn)\n",
    "specificity = tn/(tn+fp)\n",
    "\n",
    "try:\n",
    "    recall = tp / (tp+fn)\n",
    "except:\n",
    "    recall = np.nan\n",
    "\n",
    "try:\n",
    "    precision = tp / (tp+fp)\n",
    "except:\n",
    "    precision = np.nan\n",
    "\n",
    "try: \n",
    "    f1 = 2*precision*recall / (precision+recall)\n",
    "except:\n",
    "    f1 = np.nan\n",
    "\n",
    "roc_auc = roc_auc_score(y_true13, y_prob13)\n",
    "prec, reca, _ = precision_recall_curve(y_true13, y_prob13)\n",
    "aupr = auc(reca, prec)\n",
    "\n",
    "print('tn = {}, fp = {}, fn = {}, tp = {}'.format(tn, fp, fn, tp))\n",
    "print('y_pred13: 0 = {} | 1 = {}'.format(Counter(y_pred13)[0], Counter(y_pred13)[1]))\n",
    "print('y_true13: 0 = {} | 1 = {}'.format(Counter(y_true13)[0], Counter(y_true13)[1]))\n",
    "print('auc={:.4f}|sn={:.4f}|sp={:.4f}|acc={:.4f}|mcc={:.4f}'.format(roc_auc, sensitivity, specificity, accuracy, mcc))\n",
    "print('precision={:.4f}|recall={:.4f}|f1={:.4f}|aupr={:.4f}'.format(precision, recall, f1, aupr))"
   ]
  },
  {
   "cell_type": "markdown",
   "metadata": {},
   "source": [
    "## 14-mer"
   ]
  },
  {
   "cell_type": "code",
   "execution_count": 9,
   "metadata": {},
   "outputs": [
    {
     "name": "stdout",
     "output_type": "stream",
     "text": [
      "tn = 602, fp = 194, fn = 141, tp = 642\n",
      "y_pred14: 0 = 743 | 1 = 836\n",
      "y_true14: 0 = 796 | 1 = 783\n",
      "auc=0.8713|sn=0.8199|sp=0.7563|acc=0.7878|mcc=0.5772\n",
      "precision=0.7679|recall=0.8199|f1=0.7931|aupr=0.8785\n"
     ]
    }
   ],
   "source": [
    "tn, fp, fn, tp = confusion_matrix(y_true14, y_pred14, labels = [0, 1]).ravel().tolist()\n",
    "accuracy = (tp+tn)/(tn+fp+fn+tp)\n",
    "try:\n",
    "    mcc = ((tp*tn) - (fn*fp)) / np.sqrt(np.float((tp+fn)*(tn+fp)*(tp+fp)*(tn+fn)))\n",
    "except:\n",
    "    print('MCC Error: ', (tp+fn)*(tn+fp)*(tp+fp)*(tn+fn))\n",
    "    mcc = np.nan\n",
    "sensitivity = tp/(tp+fn)\n",
    "specificity = tn/(tn+fp)\n",
    "\n",
    "try:\n",
    "    recall = tp / (tp+fn)\n",
    "except:\n",
    "    recall = np.nan\n",
    "\n",
    "try:\n",
    "    precision = tp / (tp+fp)\n",
    "except:\n",
    "    precision = np.nan\n",
    "\n",
    "try: \n",
    "    f1 = 2*precision*recall / (precision+recall)\n",
    "except:\n",
    "    f1 = np.nan\n",
    "\n",
    "roc_auc = roc_auc_score(y_true14, y_prob14)\n",
    "prec, reca, _ = precision_recall_curve(y_true14, y_prob14)\n",
    "aupr = auc(reca, prec)\n",
    "\n",
    "print('tn = {}, fp = {}, fn = {}, tp = {}'.format(tn, fp, fn, tp))\n",
    "print('y_pred14: 0 = {} | 1 = {}'.format(Counter(y_pred14)[0], Counter(y_pred14)[1]))\n",
    "print('y_true14: 0 = {} | 1 = {}'.format(Counter(y_true14)[0], Counter(y_true14)[1]))\n",
    "print('auc={:.4f}|sn={:.4f}|sp={:.4f}|acc={:.4f}|mcc={:.4f}'.format(roc_auc, sensitivity, specificity, accuracy, mcc))\n",
    "print('precision={:.4f}|recall={:.4f}|f1={:.4f}|aupr={:.4f}'.format(precision, recall, f1, aupr))"
   ]
  },
  {
   "cell_type": "markdown",
   "metadata": {},
   "source": [
    "## generally"
   ]
  },
  {
   "cell_type": "code",
   "execution_count": 4,
   "metadata": {},
   "outputs": [],
   "source": [
    "from os import readlink\n",
    "f = open('weekly_result.txt',\"r\")\n",
    "lines = f.readlines()\n",
    "y_prob = []\n",
    "y_true = []\n",
    "lines.pop(0)\n",
    "#lines.pop(-1)\n",
    "for x in lines:\n",
    "    #if (x.split('\\t')[3]) == '12':\n",
    "        y_prob.append(x.split('\\t')[4])\n",
    "        y_true.append(x.split('\\t')[2])\n",
    "f.close()\n",
    "y_prob = [float(num) for num in y_prob]\n",
    "y_true = [float(num) for num in y_true]\n",
    "y_pred = [round(num) for num in y_prob]\n",
    "# print(len(y_prob))\n",
    "# print(len(y_pred))\n",
    "# print(len(y_true))"
   ]
  },
  {
   "cell_type": "code",
   "execution_count": 5,
   "metadata": {},
   "outputs": [
    {
     "name": "stdout",
     "output_type": "stream",
     "text": [
      "tn = 80932, fp = 5538, fn = 4984, tp = 81126\n",
      "y_pred: 0 = 85916 | 1 = 86664\n",
      "y_true: 0 = 86470 | 1 = 86110\n",
      "auc=0.9831|sensitivity=0.9421|specificity=0.9360|acc=0.9390|mcc=0.8781\n",
      "precision=0.9361|recall=0.9421|f1=0.9391|aupr=0.9824\n"
     ]
    }
   ],
   "source": [
    "tn, fp, fn, tp = confusion_matrix(y_true, y_pred, labels = [0, 1]).ravel().tolist()\n",
    "accuracy = (tp+tn)/(tn+fp+fn+tp)\n",
    "try:\n",
    "    mcc = ((tp*tn) - (fn*fp)) / np.sqrt(np.float((tp+fn)*(tn+fp)*(tp+fp)*(tn+fn)))\n",
    "except:\n",
    "    print('MCC Error: ', (tp+fn)*(tn+fp)*(tp+fp)*(tn+fn))\n",
    "    mcc = np.nan\n",
    "sensitivity = tp/(tp+fn)\n",
    "specificity = tn/(tn+fp)\n",
    "\n",
    "try:\n",
    "    recall = tp / (tp+fn)\n",
    "except:\n",
    "    recall = np.nan\n",
    "\n",
    "try:\n",
    "    precision = tp / (tp+fp)\n",
    "except:\n",
    "    precision = np.nan\n",
    "\n",
    "try: \n",
    "    f1 = 2*precision*recall / (precision+recall)\n",
    "except:\n",
    "    f1 = np.nan\n",
    "\n",
    "roc_auc = roc_auc_score(y_true, y_prob)\n",
    "prec, reca, _ = precision_recall_curve(y_true, y_prob)\n",
    "aupr = auc(reca, prec)\n",
    "\n",
    "print('tn = {}, fp = {}, fn = {}, tp = {}'.format(tn, fp, fn, tp))\n",
    "print('y_pred: 0 = {} | 1 = {}'.format(Counter(y_pred)[0], Counter(y_pred)[1]))\n",
    "print('y_true: 0 = {} | 1 = {}'.format(Counter(y_true)[0], Counter(y_true)[1]))\n",
    "print('auc={:.4f}|sensitivity={:.4f}|specificity={:.4f}|acc={:.4f}|mcc={:.4f}'.format(roc_auc, sensitivity, specificity, accuracy, mcc))\n",
    "print('precision={:.4f}|recall={:.4f}|f1={:.4f}|aupr={:.4f}'.format(precision, recall, f1, aupr))"
   ]
  },
  {
   "cell_type": "code",
   "execution_count": null,
   "metadata": {},
   "outputs": [],
   "source": []
  }
 ],
 "metadata": {
  "kernelspec": {
   "display_name": "Python 3",
   "language": "python",
   "name": "python3"
  },
  "language_info": {
   "codemirror_mode": {
    "name": "ipython",
    "version": 3
   },
   "file_extension": ".py",
   "mimetype": "text/x-python",
   "name": "python",
   "nbconvert_exporter": "python",
   "pygments_lexer": "ipython3",
   "version": "3.8.5"
  }
 },
 "nbformat": 4,
 "nbformat_minor": 4
}
